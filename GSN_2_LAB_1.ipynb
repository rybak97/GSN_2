{
  "nbformat": 4,
  "nbformat_minor": 0,
  "metadata": {
    "colab": {
      "name": "GSN_2 LAB_1.ipynb",
      "provenance": [],
      "collapsed_sections": []
    },
    "kernelspec": {
      "name": "python3",
      "display_name": "Python 3"
    },
    "language_info": {
      "name": "python"
    },
    "accelerator": "GPU"
  },
  "cells": [
    {
      "cell_type": "markdown",
      "source": [
        "LAB1 GSN2: Simple autoencoder and conv autoencoder\n",
        "\n",
        "Michał Rybak 239574\n"
      ],
      "metadata": {
        "id": "oz4hQiBZvIxz"
      }
    },
    {
      "cell_type": "markdown",
      "source": [
        "1. Simple autoencoder"
      ],
      "metadata": {
        "id": "guSb9XznvY3g"
      }
    },
    {
      "cell_type": "code",
      "execution_count": null,
      "metadata": {
        "id": "0BGIU0zAekd8"
      },
      "outputs": [],
      "source": [
        "import keras\n",
        "import tensorflow as tf\n",
        "from keras import layers\n",
        "import numpy as np"
      ]
    },
    {
      "cell_type": "code",
      "source": [
        "(x_train,y_train), (x_test,y_test) = tf.keras.datasets.fashion_mnist.load_data()"
      ],
      "metadata": {
        "colab": {
          "base_uri": "https://localhost:8080/"
        },
        "id": "uNDZi20ykIoG",
        "outputId": "5619809b-5322-46f9-940d-8a3289010030"
      },
      "execution_count": null,
      "outputs": [
        {
          "output_type": "stream",
          "name": "stdout",
          "text": [
            "Downloading data from https://storage.googleapis.com/tensorflow/tf-keras-datasets/train-labels-idx1-ubyte.gz\n",
            "32768/29515 [=================================] - 0s 0us/step\n",
            "40960/29515 [=========================================] - 0s 0us/step\n",
            "Downloading data from https://storage.googleapis.com/tensorflow/tf-keras-datasets/train-images-idx3-ubyte.gz\n",
            "26427392/26421880 [==============================] - 0s 0us/step\n",
            "26435584/26421880 [==============================] - 0s 0us/step\n",
            "Downloading data from https://storage.googleapis.com/tensorflow/tf-keras-datasets/t10k-labels-idx1-ubyte.gz\n",
            "16384/5148 [===============================================================================================] - 0s 0us/step\n",
            "Downloading data from https://storage.googleapis.com/tensorflow/tf-keras-datasets/t10k-images-idx3-ubyte.gz\n",
            "4423680/4422102 [==============================] - 0s 0us/step\n",
            "4431872/4422102 [==============================] - 0s 0us/step\n"
          ]
        }
      ]
    },
    {
      "cell_type": "code",
      "source": [
        "x_train = x_train/255.0\n",
        "x_test = x_test/255.0"
      ],
      "metadata": {
        "id": "pHx8VZw4kkae"
      },
      "execution_count": null,
      "outputs": []
    },
    {
      "cell_type": "code",
      "source": [
        "x_train = x_train.reshape((len(x_train), np.prod(x_train.shape[1:])))\n",
        "x_test = x_test.reshape((len(x_test), np.prod(x_test.shape[1:])))"
      ],
      "metadata": {
        "id": "dG8_KZfxlKnv"
      },
      "execution_count": null,
      "outputs": []
    },
    {
      "cell_type": "code",
      "source": [
        "x_test.shape"
      ],
      "metadata": {
        "colab": {
          "base_uri": "https://localhost:8080/"
        },
        "id": "qCkGj0K6l__y",
        "outputId": "e3ef251e-7555-4ff0-f9a6-c282eed6ff2a"
      },
      "execution_count": null,
      "outputs": [
        {
          "output_type": "execute_result",
          "data": {
            "text/plain": [
              "(10000, 784)"
            ]
          },
          "metadata": {},
          "execution_count": 5
        }
      ]
    },
    {
      "cell_type": "code",
      "source": [
        "input = keras.Input(shape=(784,))\n",
        "encoded = layers.Dense(10,activation='relu')(input)\n",
        "decoded = layers.Dense(784,activation='sigmoid')(encoded)\n",
        "\n",
        "autoencoder = keras.Model(input,decoded)"
      ],
      "metadata": {
        "id": "O8W_YWUziDx6"
      },
      "execution_count": null,
      "outputs": []
    },
    {
      "cell_type": "code",
      "source": [
        "autoencoder.compile(optimizer='adam',loss='mse')"
      ],
      "metadata": {
        "id": "acxocn0hjPL1"
      },
      "execution_count": null,
      "outputs": []
    },
    {
      "cell_type": "code",
      "source": [
        "autoencoder.fit(x_train, x_train,\n",
        "                epochs=20,\n",
        "                batch_size=256,\n",
        "                shuffle=True,\n",
        "                validation_data=(x_test, x_test))"
      ],
      "metadata": {
        "colab": {
          "base_uri": "https://localhost:8080/"
        },
        "id": "h2h2X7yhk3S3",
        "outputId": "7f92b528-02c5-442a-c2df-00ea985aec77"
      },
      "execution_count": null,
      "outputs": [
        {
          "output_type": "stream",
          "name": "stdout",
          "text": [
            "Epoch 1/20\n",
            "235/235 [==============================] - 3s 4ms/step - loss: 0.0741 - val_loss: 0.0460\n",
            "Epoch 2/20\n",
            "235/235 [==============================] - 1s 3ms/step - loss: 0.0392 - val_loss: 0.0341\n",
            "Epoch 3/20\n",
            "235/235 [==============================] - 1s 3ms/step - loss: 0.0317 - val_loss: 0.0298\n",
            "Epoch 4/20\n",
            "235/235 [==============================] - 1s 3ms/step - loss: 0.0283 - val_loss: 0.0271\n",
            "Epoch 5/20\n",
            "235/235 [==============================] - 1s 3ms/step - loss: 0.0261 - val_loss: 0.0254\n",
            "Epoch 6/20\n",
            "235/235 [==============================] - 1s 3ms/step - loss: 0.0247 - val_loss: 0.0242\n",
            "Epoch 7/20\n",
            "235/235 [==============================] - 1s 3ms/step - loss: 0.0237 - val_loss: 0.0233\n",
            "Epoch 8/20\n",
            "235/235 [==============================] - 1s 3ms/step - loss: 0.0230 - val_loss: 0.0227\n",
            "Epoch 9/20\n",
            "235/235 [==============================] - 1s 3ms/step - loss: 0.0226 - val_loss: 0.0224\n",
            "Epoch 10/20\n",
            "235/235 [==============================] - 1s 3ms/step - loss: 0.0222 - val_loss: 0.0221\n",
            "Epoch 11/20\n",
            "235/235 [==============================] - 1s 3ms/step - loss: 0.0220 - val_loss: 0.0220\n",
            "Epoch 12/20\n",
            "235/235 [==============================] - 1s 3ms/step - loss: 0.0219 - val_loss: 0.0218\n",
            "Epoch 13/20\n",
            "235/235 [==============================] - 1s 3ms/step - loss: 0.0218 - val_loss: 0.0218\n",
            "Epoch 14/20\n",
            "235/235 [==============================] - 1s 3ms/step - loss: 0.0217 - val_loss: 0.0217\n",
            "Epoch 15/20\n",
            "235/235 [==============================] - 1s 3ms/step - loss: 0.0217 - val_loss: 0.0216\n",
            "Epoch 16/20\n",
            "235/235 [==============================] - 1s 3ms/step - loss: 0.0216 - val_loss: 0.0216\n",
            "Epoch 17/20\n",
            "235/235 [==============================] - 1s 3ms/step - loss: 0.0216 - val_loss: 0.0215\n",
            "Epoch 18/20\n",
            "235/235 [==============================] - 1s 3ms/step - loss: 0.0215 - val_loss: 0.0215\n",
            "Epoch 19/20\n",
            "235/235 [==============================] - 1s 4ms/step - loss: 0.0215 - val_loss: 0.0215\n",
            "Epoch 20/20\n",
            "235/235 [==============================] - 1s 4ms/step - loss: 0.0215 - val_loss: 0.0215\n"
          ]
        },
        {
          "output_type": "execute_result",
          "data": {
            "text/plain": [
              "<keras.callbacks.History at 0x7f6bf041afd0>"
            ]
          },
          "metadata": {},
          "execution_count": 8
        }
      ]
    },
    {
      "cell_type": "code",
      "source": [
        "print(x_train[0].shape)"
      ],
      "metadata": {
        "colab": {
          "base_uri": "https://localhost:8080/"
        },
        "id": "eAU_sUWen8VN",
        "outputId": "bceb50e1-8d9d-43a5-8f63-000e0ab2086b"
      },
      "execution_count": null,
      "outputs": [
        {
          "output_type": "stream",
          "name": "stdout",
          "text": [
            "(784,)\n"
          ]
        }
      ]
    },
    {
      "cell_type": "code",
      "source": [
        "result = autoencoder.predict(x_test[0].reshape(-1,784))"
      ],
      "metadata": {
        "id": "UA5jHQvLnht0"
      },
      "execution_count": null,
      "outputs": []
    },
    {
      "cell_type": "code",
      "source": [
        "import matplotlib.pyplot as plt\n",
        "\n",
        "plt.imshow(x_test[0].reshape(28,28),cmap='gray')"
      ],
      "metadata": {
        "colab": {
          "base_uri": "https://localhost:8080/",
          "height": 282
        },
        "id": "9B2CR51PpaQY",
        "outputId": "b7740e52-a84c-46b7-8159-7419f09f0cc0"
      },
      "execution_count": null,
      "outputs": [
        {
          "output_type": "execute_result",
          "data": {
            "text/plain": [
              "<matplotlib.image.AxesImage at 0x7fc726cb05d0>"
            ]
          },
          "metadata": {},
          "execution_count": 52
        },
        {
          "output_type": "display_data",
          "data": {
            "image/png": "[encoded data removed]",
            "text/plain": [
              "<Figure size 432x288 with 1 Axes>"
            ]
          },
          "metadata": {
            "needs_background": "light"
          }
        }
      ]
    },
    {
      "cell_type": "code",
      "source": [
        "plt.imshow(result.reshape(28,28),cmap='gray')"
      ],
      "metadata": {
        "colab": {
          "base_uri": "https://localhost:8080/",
          "height": 282
        },
        "id": "7bFM8qupqR-q",
        "outputId": "27d104ef-ca47-4a2f-f1eb-8f3c36c6fe45"
      },
      "execution_count": null,
      "outputs": [
        {
          "output_type": "execute_result",
          "data": {
            "text/plain": [
              "<matplotlib.image.AxesImage at 0x7f6bf00ed910>"
            ]
          },
          "metadata": {},
          "execution_count": 12
        },
        {
          "output_type": "display_data",
          "data": {
            "image/png": "[encoded data removed]",
            "text/plain": [
              "<Figure size 432x288 with 1 Axes>"
            ]
          },
          "metadata": {
            "needs_background": "light"
          }
        }
      ]
    },
    {
      "cell_type": "markdown",
      "source": [
        "2. Conv autoencoder\n"
      ],
      "metadata": {
        "id": "_KQXJw3Bx8Cy"
      }
    },
    {
      "cell_type": "code",
      "source": [
        "input_img = keras.Input(shape=(28, 28, 1))\n",
        "\n",
        "x = layers.Conv2D(32, (3, 3), activation='relu', padding='same')(input_img)\n",
        "x = layers.MaxPooling2D((4, 4), padding='same')(x)\n",
        "x = layers.Conv2D(32, (3, 3), activation='relu', padding='same')(x)\n",
        "encoded = layers.MaxPooling2D((2, 2), padding='same')(x)\n",
        "\n"
      ],
      "metadata": {
        "id": "EXos6cAKqXE5"
      },
      "execution_count": null,
      "outputs": []
    },
    {
      "cell_type": "code",
      "source": [
        "encoded.shape"
      ],
      "metadata": {
        "colab": {
          "base_uri": "https://localhost:8080/"
        },
        "id": "n1AiYZgAt8eR",
        "outputId": "c0e42f1e-7b5c-4636-eefe-00b61a69578c"
      },
      "execution_count": null,
      "outputs": [
        {
          "output_type": "execute_result",
          "data": {
            "text/plain": [
              "TensorShape([None, 4, 4, 32])"
            ]
          },
          "metadata": {},
          "execution_count": 42
        }
      ]
    },
    {
      "cell_type": "code",
      "source": [
        "x = layers.Conv2DTranspose(32,(3,3), activation='relu', padding='valid')(encoded)\n",
        "x = layers.UpSampling2D((2, 2))(x)\n",
        "x = layers.Conv2DTranspose(32,(3,3), activation='relu', padding='valid')(x)\n",
        "x = layers.UpSampling2D((2, 2))(x)\n",
        "decoded = layers.Conv2D(1, (3, 3), activation='sigmoid', padding='same')(x)"
      ],
      "metadata": {
        "id": "ZOS2S-0XuZIx"
      },
      "execution_count": null,
      "outputs": []
    },
    {
      "cell_type": "code",
      "source": [
        "decoded.shape"
      ],
      "metadata": {
        "colab": {
          "base_uri": "https://localhost:8080/"
        },
        "id": "oNgY_fcPu_jb",
        "outputId": "e65afa6f-7987-45ff-cb99-be7f10cbd735"
      },
      "execution_count": null,
      "outputs": [
        {
          "output_type": "execute_result",
          "data": {
            "text/plain": [
              "TensorShape([None, 28, 28, 1])"
            ]
          },
          "metadata": {},
          "execution_count": 44
        }
      ]
    },
    {
      "cell_type": "code",
      "source": [
        "autoencoder = keras.Model(input_img,decoded)"
      ],
      "metadata": {
        "id": "85acXHI9x33Y"
      },
      "execution_count": null,
      "outputs": []
    },
    {
      "cell_type": "code",
      "source": [
        "autoencoder.compile(optimizer='adam',loss='mse')"
      ],
      "metadata": {
        "id": "n5p5IA-9x_HH"
      },
      "execution_count": null,
      "outputs": []
    },
    {
      "cell_type": "code",
      "source": [
        "(x_train,y_train), (x_test,y_test) = tf.keras.datasets.fashion_mnist.load_data()"
      ],
      "metadata": {
        "id": "rj7siWLhyJmo",
        "colab": {
          "base_uri": "https://localhost:8080/"
        },
        "outputId": "a3871c08-c5a3-4e71-b886-650d9d0e567a"
      },
      "execution_count": null,
      "outputs": [
        {
          "output_type": "stream",
          "name": "stdout",
          "text": [
            "Downloading data from https://storage.googleapis.com/tensorflow/tf-keras-datasets/train-labels-idx1-ubyte.gz\n",
            "32768/29515 [=================================] - 0s 0us/step\n",
            "40960/29515 [=========================================] - 0s 0us/step\n",
            "Downloading data from https://storage.googleapis.com/tensorflow/tf-keras-datasets/train-images-idx3-ubyte.gz\n",
            "26427392/26421880 [==============================] - 0s 0us/step\n",
            "26435584/26421880 [==============================] - 0s 0us/step\n",
            "Downloading data from https://storage.googleapis.com/tensorflow/tf-keras-datasets/t10k-labels-idx1-ubyte.gz\n",
            "16384/5148 [===============================================================================================] - 0s 0us/step\n",
            "Downloading data from https://storage.googleapis.com/tensorflow/tf-keras-datasets/t10k-images-idx3-ubyte.gz\n",
            "4423680/4422102 [==============================] - 0s 0us/step\n",
            "4431872/4422102 [==============================] - 0s 0us/step\n"
          ]
        }
      ]
    },
    {
      "cell_type": "code",
      "source": [
        "x_train = x_train/255.0\n",
        "x_test = x_test/255.0"
      ],
      "metadata": {
        "id": "bP9Evg0jyKUA"
      },
      "execution_count": null,
      "outputs": []
    },
    {
      "cell_type": "code",
      "source": [
        "autoencoder.fit(x_train, x_train,\n",
        "                epochs=20,\n",
        "                batch_size=256,\n",
        "                shuffle=True,\n",
        "                validation_data=(x_test, x_test))"
      ],
      "metadata": {
        "colab": {
          "base_uri": "https://localhost:8080/"
        },
        "id": "jIrB264gyDJA",
        "outputId": "8b9c7b7c-4af1-426f-a03f-251a22663a26"
      },
      "execution_count": null,
      "outputs": [
        {
          "output_type": "stream",
          "name": "stdout",
          "text": [
            "Epoch 1/20\n",
            "235/235 [==============================] - 13s 12ms/step - loss: 0.0416 - val_loss: 0.0238\n",
            "Epoch 2/20\n",
            "235/235 [==============================] - 3s 11ms/step - loss: 0.0218 - val_loss: 0.0202\n",
            "Epoch 3/20\n",
            "235/235 [==============================] - 3s 11ms/step - loss: 0.0191 - val_loss: 0.0181\n",
            "Epoch 4/20\n",
            "235/235 [==============================] - 3s 11ms/step - loss: 0.0175 - val_loss: 0.0169\n",
            "Epoch 5/20\n",
            "235/235 [==============================] - 3s 11ms/step - loss: 0.0163 - val_loss: 0.0159\n",
            "Epoch 6/20\n",
            "235/235 [==============================] - 2s 10ms/step - loss: 0.0156 - val_loss: 0.0152\n",
            "Epoch 7/20\n",
            "235/235 [==============================] - 2s 10ms/step - loss: 0.0149 - val_loss: 0.0146\n",
            "Epoch 8/20\n",
            "235/235 [==============================] - 2s 10ms/step - loss: 0.0143 - val_loss: 0.0143\n",
            "Epoch 9/20\n",
            "235/235 [==============================] - 3s 11ms/step - loss: 0.0138 - val_loss: 0.0136\n",
            "Epoch 10/20\n",
            "235/235 [==============================] - 3s 12ms/step - loss: 0.0134 - val_loss: 0.0132\n",
            "Epoch 11/20\n",
            "235/235 [==============================] - 2s 11ms/step - loss: 0.0130 - val_loss: 0.0129\n",
            "Epoch 12/20\n",
            "235/235 [==============================] - 2s 10ms/step - loss: 0.0127 - val_loss: 0.0125\n",
            "Epoch 13/20\n",
            "235/235 [==============================] - 2s 10ms/step - loss: 0.0124 - val_loss: 0.0123\n",
            "Epoch 14/20\n",
            "235/235 [==============================] - 3s 11ms/step - loss: 0.0121 - val_loss: 0.0121\n",
            "Epoch 15/20\n",
            "235/235 [==============================] - 3s 11ms/step - loss: 0.0119 - val_loss: 0.0119\n",
            "Epoch 16/20\n",
            "235/235 [==============================] - 2s 10ms/step - loss: 0.0117 - val_loss: 0.0117\n",
            "Epoch 17/20\n",
            "235/235 [==============================] - 2s 10ms/step - loss: 0.0116 - val_loss: 0.0115\n",
            "Epoch 18/20\n",
            "235/235 [==============================] - 3s 11ms/step - loss: 0.0114 - val_loss: 0.0114\n",
            "Epoch 19/20\n",
            "235/235 [==============================] - 2s 10ms/step - loss: 0.0113 - val_loss: 0.0113\n",
            "Epoch 20/20\n",
            "235/235 [==============================] - 2s 10ms/step - loss: 0.0111 - val_loss: 0.0111\n"
          ]
        },
        {
          "output_type": "execute_result",
          "data": {
            "text/plain": [
              "<keras.callbacks.History at 0x7fc73c10bd90>"
            ]
          },
          "metadata": {},
          "execution_count": 49
        }
      ]
    },
    {
      "cell_type": "code",
      "source": [
        "result = autoencoder.predict(x_test[10].reshape(1,28, 28, 1))"
      ],
      "metadata": {
        "id": "naA_oK7kwCVT"
      },
      "execution_count": null,
      "outputs": []
    },
    {
      "cell_type": "code",
      "source": [
        "plt.imshow(x_test[10].reshape(28,28),cmap='gray')"
      ],
      "metadata": {
        "colab": {
          "base_uri": "https://localhost:8080/",
          "height": 282
        },
        "id": "Dlzvb0o0v2qF",
        "outputId": "191bbd81-bc14-40c3-cd96-0bd962a720a6"
      },
      "execution_count": null,
      "outputs": [
        {
          "output_type": "execute_result",
          "data": {
            "text/plain": [
              "<matplotlib.image.AxesImage at 0x7fc72678a890>"
            ]
          },
          "metadata": {},
          "execution_count": 53
        },
        {
          "output_type": "display_data",
          "data": {
            "image/png": "[encoded data removed]",
            "text/plain": [
              "<Figure size 432x288 with 1 Axes>"
            ]
          },
          "metadata": {
            "needs_background": "light"
          }
        }
      ]
    },
    {
      "cell_type": "code",
      "source": [
        "plt.imshow(result.reshape(28,28),cmap='gray')"
      ],
      "metadata": {
        "colab": {
          "base_uri": "https://localhost:8080/",
          "height": 282
        },
        "id": "CKiHcjMaxQhN",
        "outputId": "53b4452f-aac0-4b40-dd45-e4280c885d29"
      },
      "execution_count": null,
      "outputs": [
        {
          "output_type": "execute_result",
          "data": {
            "text/plain": [
              "<matplotlib.image.AxesImage at 0x7fc7266fe890>"
            ]
          },
          "metadata": {},
          "execution_count": 54
        },
        {
          "output_type": "display_data",
          "data": {
            "image/png": "[encoded data removed]",
            "text/plain": [
              "<Figure size 432x288 with 1 Axes>"
            ]
          },
          "metadata": {
            "needs_background": "light"
          }
        }
      ]
    },
    {
      "cell_type": "code",
      "source": [
        "jak działa Conv2DTranspose\n",
        "2. conv testy"
      ],
      "metadata": {
        "id": "0qbqrl7GyvGy"
      },
      "execution_count": null,
      "outputs": []
    }
  ]
}